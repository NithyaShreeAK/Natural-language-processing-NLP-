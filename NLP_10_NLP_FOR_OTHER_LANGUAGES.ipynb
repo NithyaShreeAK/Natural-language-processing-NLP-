{
  "nbformat": 4,
  "nbformat_minor": 0,
  "metadata": {
    "colab": {
      "provenance": []
    },
    "kernelspec": {
      "name": "python3",
      "display_name": "Python 3"
    },
    "language_info": {
      "name": "python"
    }
  },
  "cells": [
    {
      "cell_type": "code",
      "source": [
        "from transformers import MarianMTModel, MarianTokenizer\n",
        "import nltk\n",
        "\n",
        "# Download necessary NLTK data correctly\n",
        "nltk.download('punkt')\n",
        "nltk.download('averaged_perceptron_tagger')\n",
        "# Download the English-specific POS tagger data\n",
        "nltk.download('averaged_perceptron_tagger_eng')  # This line is crucial for English POS tagging\n",
        "\n",
        "\n",
        "# Load translation model and tokenizer (Hindi to English)\n",
        "model_name = 'Helsinki-NLP/opus-mt-hi-en'\n",
        "tokenizer = MarianTokenizer.from_pretrained(model_name)\n",
        "model = MarianMTModel.from_pretrained(model_name)\n",
        "\n",
        "# Hindi input sentence\n",
        "hindi_text = \"तकनीक दुनिया को तेजी से बदल रही है। युवा लोग कृत्रिम बुद्धिमत्ता और मशीन लर्निंग के बारे में उत्साहित हैं।\"\n",
        "\n",
        "# Translate\n",
        "inputs = tokenizer([hindi_text], return_tensors=\"pt\", padding=True)\n",
        "translated = model.generate(**inputs)\n",
        "translated_text = tokenizer.decode(translated[0], skip_special_tokens=True)\n",
        "\n",
        "print(\"🔁 Translated Text:\\n\", translated_text)\n",
        "\n",
        "# Perform POS tagging using NLTK\n",
        "words = nltk.word_tokenize(translated_text)\n",
        "tags = nltk.pos_tag(words)\n",
        "\n",
        "print(\"\\n🧠 POS Tags:\")\n",
        "for word, tag in tags:\n",
        "    print(f\"{word} → {tag}\")"
      ],
      "metadata": {
        "colab": {
          "base_uri": "https://localhost:8080/"
        },
        "id": "SByseU_ZiZeN",
        "outputId": "2de5c78e-a2dd-4994-9843-c089617e5ff1"
      },
      "execution_count": 7,
      "outputs": [
        {
          "output_type": "stream",
          "name": "stderr",
          "text": [
            "[nltk_data] Downloading package punkt to /root/nltk_data...\n",
            "[nltk_data]   Package punkt is already up-to-date!\n",
            "[nltk_data] Downloading package averaged_perceptron_tagger to\n",
            "[nltk_data]     /root/nltk_data...\n",
            "[nltk_data]   Package averaged_perceptron_tagger is already up-to-\n",
            "[nltk_data]       date!\n",
            "[nltk_data] Downloading package averaged_perceptron_tagger_eng to\n",
            "[nltk_data]     /root/nltk_data...\n",
            "[nltk_data]   Unzipping taggers/averaged_perceptron_tagger_eng.zip.\n",
            "/usr/local/lib/python3.11/dist-packages/transformers/models/marian/tokenization_marian.py:175: UserWarning: Recommended: pip install sacremoses.\n",
            "  warnings.warn(\"Recommended: pip install sacremoses.\")\n"
          ]
        },
        {
          "output_type": "stream",
          "name": "stdout",
          "text": [
            "🔁 Translated Text:\n",
            " The technology is changing the world fast. Young people are excited about artificial intelligence and machine pressure.\n",
            "\n",
            "🧠 POS Tags:\n",
            "The → DT\n",
            "technology → NN\n",
            "is → VBZ\n",
            "changing → VBG\n",
            "the → DT\n",
            "world → NN\n",
            "fast → NN\n",
            ". → .\n",
            "Young → CC\n",
            "people → NNS\n",
            "are → VBP\n",
            "excited → VBN\n",
            "about → IN\n",
            "artificial → JJ\n",
            "intelligence → NN\n",
            "and → CC\n",
            "machine → NN\n",
            "pressure → NN\n",
            ". → .\n"
          ]
        }
      ]
    }
  ]
}