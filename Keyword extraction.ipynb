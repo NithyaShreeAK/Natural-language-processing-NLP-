{
  "nbformat": 4,
  "nbformat_minor": 0,
  "metadata": {
    "colab": {
      "provenance": []
    },
    "kernelspec": {
      "name": "python3",
      "display_name": "Python 3"
    },
    "language_info": {
      "name": "python"
    }
  },
  "cells": [
    {
      "cell_type": "code",
      "source": [
        "!pip install -U scikit-learn\n"
      ],
      "metadata": {
        "colab": {
          "base_uri": "https://localhost:8080/"
        },
        "id": "mcF3iXBJ-P9Q",
        "outputId": "375129b1-d536-47c8-ae96-4ce0a8b325c9"
      },
      "execution_count": null,
      "outputs": [
        {
          "output_type": "stream",
          "name": "stdout",
          "text": [
            "Requirement already satisfied: scikit-learn in /usr/local/lib/python3.11/dist-packages (1.6.1)\n",
            "Requirement already satisfied: numpy>=1.19.5 in /usr/local/lib/python3.11/dist-packages (from scikit-learn) (2.0.2)\n",
            "Requirement already satisfied: scipy>=1.6.0 in /usr/local/lib/python3.11/dist-packages (from scikit-learn) (1.14.1)\n",
            "Requirement already satisfied: joblib>=1.2.0 in /usr/local/lib/python3.11/dist-packages (from scikit-learn) (1.4.2)\n",
            "Requirement already satisfied: threadpoolctl>=3.1.0 in /usr/local/lib/python3.11/dist-packages (from scikit-learn) (3.6.0)\n"
          ]
        }
      ]
    },
    {
      "cell_type": "code",
      "source": [
        "from sklearn.feature_extraction.text import TfidfVectorizer\n",
        "\n",
        "# Sample text\n",
        "text = \"\"\"\n",
        "Python is a popular programming language. It is used for web development, data science, artificial intelligence, and machine learning.\n",
        "Python's syntax is simple and easy to learn. It supports multiple libraries such as NumPy, Pandas, and TensorFlow.\n",
        "\"\"\"\n",
        "\n",
        "# Initialize TF-IDF Vectorizer (remove common English stopwords)\n",
        "tfidf_vectorizer = TfidfVectorizer(stop_words='english')\n",
        "\n",
        "# Convert the text into a matrix of TF-IDF features\n",
        "tfidf_matrix = tfidf_vectorizer.fit_transform([text])\n",
        "\n",
        "# Get the feature names (words)\n",
        "feature_names = tfidf_vectorizer.get_feature_names_out()\n",
        "\n",
        "# Get the TF-IDF score of each word in the text\n",
        "tfidf_scores = tfidf_matrix.toarray()[0]\n",
        "\n",
        "# Combine the words with their TF-IDF scores\n",
        "word_scores = list(zip(feature_names, tfidf_scores))\n",
        "\n",
        "# Sort the words by TF-IDF score (highest to lowest)\n",
        "sorted_word_scores = sorted(word_scores, key=lambda x: x[1], reverse=True)\n",
        "\n",
        "# Display the top 5 keywords\n",
        "print(\"Top 5 Keywords:\")\n",
        "for word, score in sorted_word_scores[:5]:\n",
        "    print(f\"{word}: {score:.4f}\")\n"
      ],
      "metadata": {
        "id": "COcugeAv-XyP",
        "outputId": "c8ba85af-abc2-4a9d-de42-1fa1d3f7dc51",
        "colab": {
          "base_uri": "https://localhost:8080/"
        }
      },
      "execution_count": null,
      "outputs": [
        {
          "output_type": "stream",
          "name": "stdout",
          "text": [
            "Top 5 Keywords:\n",
            "python: 0.3922\n",
            "artificial: 0.1961\n",
            "data: 0.1961\n",
            "development: 0.1961\n",
            "easy: 0.1961\n"
          ]
        }
      ]
    }
  ]
}